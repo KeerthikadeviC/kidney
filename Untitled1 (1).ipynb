{
  "nbformat": 4,
  "nbformat_minor": 0,
  "metadata": {
    "colab": {
      "provenance": []
    },
    "kernelspec": {
      "name": "python3",
      "display_name": "Python 3"
    },
    "language_info": {
      "name": "python"
    }
  },
  "cells": [
    {
      "cell_type": "code",
      "execution_count": 1,
      "metadata": {
        "colab": {
          "base_uri": "https://localhost:8080/"
        },
        "id": "sWBBOxe08u6F",
        "outputId": "3217e9f9-f82e-400c-fb05-511fa1800037"
      },
      "outputs": [
        {
          "output_type": "stream",
          "name": "stdout",
          "text": [
            "Mounted at /content/drive\n"
          ]
        }
      ],
      "source": [
        "from google.colab import drive\n",
        "drive.mount('/content/drive')\n"
      ]
    },
    {
      "cell_type": "code",
      "source": [
        "import pandas as pd\n",
        "import numpy as np\n",
        "from sklearn.model_selection import train_test_split\n",
        "from sklearn.preprocessing import LabelEncoder, StandardScaler\n",
        "from sklearn.metrics import accuracy_score\n",
        "from sklearn.svm import SVC\n",
        "from sklearn.ensemble import RandomForestClassifier\n",
        "from xgboost import XGBClassifier\n",
        "from sklearn.linear_model import LogisticRegression\n",
        "from sklearn.tree import DecisionTreeClassifier\n",
        "import pickle\n",
        "\n",
        "# Step 1: Load Dataset\n",
        "df = pd.read_csv(\"/content/drive/MyDrive/ckd project/ckd_decisive_attributes.csv\")\n",
        "\n",
        "# Step 2: Handle missing values\n",
        "df.replace(\"?\", np.nan, inplace=True)\n",
        "df = df.dropna()\n",
        "\n",
        "# Step 3: Convert columns to correct types\n",
        "numeric_cols = ['sc', 'al', 'sg', 'hemo', 'pcv', 'rc', 'bp', 'bgr', 'bu']\n",
        "for col in numeric_cols:\n",
        "    df[col] = pd.to_numeric(df[col])\n",
        "\n",
        "# Encode categorical 'rbc' and 'classification'\n",
        "le = LabelEncoder()\n",
        "df['rbc'] = le.fit_transform(df['rbc'])  # normal=1, abnormal=0\n",
        "df['classification'] = df['classification'].map({'ckd': 1, 'notckd': 0})\n",
        "\n",
        "# Step 4: Split features and target\n",
        "X = df.drop('classification', axis=1)\n",
        "y = df['classification']\n",
        "\n",
        "# Step 5: Standardize features\n",
        "scaler = StandardScaler()\n",
        "X_scaled = scaler.fit_transform(X)\n",
        "\n",
        "# Step 6: Train-test split\n",
        "X_train, X_test, y_train, y_test = train_test_split(X_scaled, y, test_size=0.2, random_state=42)\n",
        "\n",
        "# Step 7: Model training and evaluation\n",
        "models = {\n",
        "    \"SVM\": SVC(),\n",
        "    \"RandomForest\": RandomForestClassifier(),\n",
        "    \"XGBoost\": XGBClassifier(use_label_encoder=False, eval_metric='logloss'),\n",
        "    \"LogisticRegression\": LogisticRegression(),\n",
        "    \"DecisionTree\": DecisionTreeClassifier()\n",
        "}\n",
        "\n",
        "for name, model in models.items():\n",
        "    model.fit(X_train, y_train)\n",
        "    preds = model.predict(X_test)\n",
        "    acc = accuracy_score(y_test, preds)\n",
        "    print(f\"{name} Accuracy: {acc:.2f}\")\n",
        "\n",
        "# Step 8: Save the best model (e.g., RandomForest here)\n",
        "best_model = models[\"RandomForest\"]\n",
        "with open(\"ckd_model.pkl\", \"wb\") as f:\n",
        "    pickle.dump(best_model, f)\n"
      ],
      "metadata": {
        "colab": {
          "base_uri": "https://localhost:8080/"
        },
        "id": "n9HK6vwq9Irl",
        "outputId": "ebc65542-b845-43b9-f10f-fbeb511d2889"
      },
      "execution_count": 2,
      "outputs": [
        {
          "output_type": "stream",
          "name": "stdout",
          "text": [
            "SVM Accuracy: 1.00\n",
            "RandomForest Accuracy: 1.00\n"
          ]
        },
        {
          "output_type": "stream",
          "name": "stderr",
          "text": [
            "/usr/local/lib/python3.11/dist-packages/xgboost/core.py:158: UserWarning: [16:37:21] WARNING: /workspace/src/learner.cc:740: \n",
            "Parameters: { \"use_label_encoder\" } are not used.\n",
            "\n",
            "  warnings.warn(smsg, UserWarning)\n"
          ]
        },
        {
          "output_type": "stream",
          "name": "stdout",
          "text": [
            "XGBoost Accuracy: 1.00\n",
            "LogisticRegression Accuracy: 1.00\n",
            "DecisionTree Accuracy: 1.00\n"
          ]
        }
      ]
    },
    {
      "cell_type": "code",
      "source": [],
      "metadata": {
        "id": "Sz07t00n_U8z"
      },
      "execution_count": null,
      "outputs": []
    },
    {
      "source": [
        "import pandas as pd\n",
        "import numpy as np\n",
        "from sklearn.model_selection import train_test_split\n",
        "from sklearn.preprocessing import LabelEncoder\n",
        "from sklearn.ensemble import RandomForestClassifier\n",
        "from sklearn.metrics import classification_report, accuracy_score\n",
        "import joblib\n",
        "from google.colab import drive\n",
        "\n",
        "\n",
        "\n",
        "# Handle missing values BEFORE encoding\n",
        "df.replace(\"?\", np.nan, inplace=True)\n",
        "df = df.dropna()\n",
        "\n",
        "# Encode target column if not numeric - fit ONLY on the remaining data\n",
        "if df['classification'].dtype == 'object':\n",
        "    target_le = LabelEncoder()\n",
        "    # Fit target_le only on the cleaned data's classification column\n",
        "    df['classification'] = target_le.fit_transform(df['classification'])\n",
        "else:\n",
        "    target_le = None\n",
        "\n",
        "# Encode categorical features (save encoders)\n",
        "feature_encoders = {}\n",
        "# Use df.select_dtypes(include='object').columns to find object columns\n",
        "for col in df.select_dtypes(include='object').columns:\n",
        "    if col != 'classification': # Ensure 'classification' is not processed here if already encoded\n",
        "        le = LabelEncoder()\n",
        "        df[col] = le.fit_transform(df[col])\n",
        "        feature_encoders[col] = le\n",
        "\n",
        "\n",
        "# Separate features and target\n",
        "X = df.drop('classification', axis=1)\n",
        "y = df['classification']\n",
        "\n",
        "# Train/test split\n",
        "X_train, X_test, y_train, y_test = train_test_split(X, y, test_size=0.2, random_state=42)\n",
        "\n",
        "# Save column names for later use\n",
        "trained_features_cols = X_train.columns.tolist()\n",
        "\n",
        "# Train Random Forest model\n",
        "model = RandomForestClassifier(n_estimators=100, random_state=42)\n",
        "model.fit(X_train, y_train)\n",
        "\n",
        "# Predict and evaluate\n",
        "y_pred = model.predict(X_test)\n",
        "accuracy = accuracy_score(y_test, y_pred)\n",
        "\n",
        "print(\"✅ CKD Model Evaluation:\")\n",
        "print(\"Accuracy:\", accuracy)\n",
        "print(\"\\nClassification Report:\")\n",
        "\n",
        "# Get the actual class names from the fitted target_le\n",
        "# Ensure that the classes are in the correct order if needed,\n",
        "# but LabelEncoder usually sorts them.\n",
        "# You can explicitly define the target names if the encoder order is uncertain\n",
        "# target_names = ['notckd', 'ckd'] # Assuming 'notckd' maps to 0 and 'ckd' maps to 1 after dropping '?'\n",
        "# if target_le:\n",
        "#    print(classification_report(y_test, y_pred, target_names=target_names))\n",
        "# else:\n",
        "#    print(classification_report(y_test, y_pred))\n",
        "\n",
        "# Use the classes from the LabelEncoder fitted *after* dropping NaNs\n",
        "if target_le:\n",
        "     # Use target_le.classes_ only if it exists and has the correct number of classes\n",
        "     if len(target_le.classes_) == 2:\n",
        "         print(classification_report(y_test, y_pred, target_names=target_le.classes_))\n",
        "     else:\n",
        "         # Fallback or error handling if encoder classes don't match y_test/y_pred\n",
        "         print(\"Warning: LabelEncoder classes do not match prediction classes.\")\n",
        "         print(classification_report(y_test, y_pred))\n",
        "else:\n",
        "    print(classification_report(y_test, y_pred))\n",
        "\n",
        "\n",
        "# Save model and components\n",
        "model_save_path = '/content/drive/MyDrive/ckd project/ckd_model.pkl'\n",
        "target_encoder_save_path = '/content/drive/MyDrive/ckd project/target_encoder.pkl'\n",
        "feature_encoders_save_path = '/content/drive/MyDrive/ckd project/feature_encoders.pkl'\n",
        "feature_columns_save_path = '/content/drive/MyDrive/ckd project/feature_columns.pkl'\n",
        "\n",
        "joblib.dump(model, model_save_path)\n",
        "if target_le and len(target_le.classes_) == 2: # Save only if the target encoder was used and has 2 classes\n",
        "    joblib.dump(target_le, target_encoder_save_path)\n",
        "joblib.dump(feature_encoders, feature_encoders_save_path)\n",
        "joblib.dump(trained_features_cols, feature_columns_save_path)\n",
        "\n",
        "print(f\"\\n✅ Model saved to: {model_save_path}\")\n",
        "if target_le and len(target_le.classes_) == 2:\n",
        "    print(f\"✅ Target encoder saved to: {target_encoder_save_path }\")\n",
        "print(f\"✅ Feature encoders saved to: {feature_encoders_save_path}\")\n",
        "print(f\"✅ Feature columns list saved to: {feature_columns_save_path}\")"
      ],
      "cell_type": "code",
      "metadata": {
        "colab": {
          "base_uri": "https://localhost:8080/"
        },
        "id": "JfHt_fBfACBd",
        "outputId": "298b3f70-1b05-4bc8-8b05-4ddc06807a77"
      },
      "execution_count": 7,
      "outputs": [
        {
          "output_type": "stream",
          "name": "stdout",
          "text": [
            "✅ CKD Model Evaluation:\n",
            "Accuracy: 1.0\n",
            "\n",
            "Classification Report:\n",
            "              precision    recall  f1-score   support\n",
            "\n",
            "           0       1.00      1.00      1.00        29\n",
            "           2       1.00      1.00      1.00        25\n",
            "\n",
            "    accuracy                           1.00        54\n",
            "   macro avg       1.00      1.00      1.00        54\n",
            "weighted avg       1.00      1.00      1.00        54\n",
            "\n",
            "\n",
            "✅ Model saved to: /content/drive/MyDrive/ckd project/ckd_model.pkl\n",
            "✅ Feature encoders saved to: /content/drive/MyDrive/ckd project/feature_encoders.pkl\n",
            "✅ Feature columns list saved to: /content/drive/MyDrive/ckd project/feature_columns.pkl\n"
          ]
        }
      ]
    },
    {
      "cell_type": "code",
      "source": [
        "# Load the model\n",
        "with open(\"ckd_model.pkl\", \"rb\") as f:\n",
        "    model = pickle.load(f)\n",
        "\n",
        "# Example input (replace with real input values)\n",
        "input_data = [[1.2, 2, 1.015, 12.5, 40, 4.8, 80, 145, 35, 1]]  # last value is 'rbc' encoded\n",
        "\n",
        "# Standardize input (use same scaler from training)\n",
        "input_scaled = scaler.transform(input_data)\n",
        "\n",
        "# Make prediction\n",
        "prediction = model.predict(input_scaled)\n",
        "print(\"CKD Detected\" if prediction[0] == 1 else \"No CKD Detected\")\n"
      ],
      "metadata": {
        "colab": {
          "base_uri": "https://localhost:8080/"
        },
        "id": "cy3nWCKB9vqH",
        "outputId": "172eeb32-7187-45e5-9a8a-371956d94027"
      },
      "execution_count": 8,
      "outputs": [
        {
          "output_type": "stream",
          "name": "stdout",
          "text": [
            "CKD Detected\n"
          ]
        },
        {
          "output_type": "stream",
          "name": "stderr",
          "text": [
            "/usr/local/lib/python3.11/dist-packages/sklearn/utils/validation.py:2739: UserWarning: X does not have valid feature names, but StandardScaler was fitted with feature names\n",
            "  warnings.warn(\n"
          ]
        }
      ]
    },
    {
      "cell_type": "code",
      "source": [
        "# Example input representing CKD Not Detected\n",
        "# [sc, al, sg, hemo, pcv, rc, bp, bgr, bu, rbc]\n",
        "example_input = [[1.0, 0, 1.020, 14.0, 44, 5.0, 80, 120, 15, 1]]\n",
        "\n",
        "# Scale input (ensure you're using the same scaler from training)\n",
        "input_scaled = scaler.transform(example_input)\n",
        "\n",
        "# Predict\n",
        "prediction = model.predict(input_scaled)\n",
        "\n",
        "# Output result\n",
        "print(\"CKD Detected\" if prediction[0] == 1 else \"No CKD Detected\")\n"
      ],
      "metadata": {
        "colab": {
          "base_uri": "https://localhost:8080/"
        },
        "id": "Ky6lTwCL-GEH",
        "outputId": "9782545f-35bf-493d-9995-e4274eb8b672"
      },
      "execution_count": 9,
      "outputs": [
        {
          "output_type": "stream",
          "name": "stdout",
          "text": [
            "No CKD Detected\n"
          ]
        },
        {
          "output_type": "stream",
          "name": "stderr",
          "text": [
            "/usr/local/lib/python3.11/dist-packages/sklearn/utils/validation.py:2739: UserWarning: X does not have valid feature names, but StandardScaler was fitted with feature names\n",
            "  warnings.warn(\n"
          ]
        }
      ]
    }
  ]
}